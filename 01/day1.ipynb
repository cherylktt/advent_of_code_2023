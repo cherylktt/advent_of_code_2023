{
 "cells": [
  {
   "cell_type": "code",
   "execution_count": 2,
   "metadata": {},
   "outputs": [
    {
     "name": "stdout",
     "output_type": "stream",
     "text": [
      "part 1: 56465\n",
      "part 2: 55902\n"
     ]
    }
   ],
   "source": [
    "# lines = [\n",
    "#     \"two1nine\",\n",
    "#     \"eightwothree\",\n",
    "#     \"abcone2threexyz\",\n",
    "#     \"xtwone3four\",\n",
    "#     \"4nineeightseven2\",\n",
    "#     \"zoneight234\",\n",
    "#     \"7pqrstsixteen\"]\n",
    "\n",
    "# PART 2\n",
    "str2num = {\n",
    "    \"one\": \"o1e\",\n",
    "    \"two\": \"t2o\",\n",
    "    \"three\": \"t3e\",\n",
    "    \"four\": \"f4r\",\n",
    "    \"five\": \"f5e\",\n",
    "    \"six\": \"s6x\",\n",
    "    \"seven\": \"s7n\",\n",
    "    \"eight\": \"e8t\",\n",
    "    \"nine\": \"n9e\",\n",
    "}\n",
    "\n",
    "def replace_words(lines):\n",
    "    new_lines = []\n",
    "    for line in lines:\n",
    "        for k, v in str2num.items():\n",
    "            line = line.replace(k, v)\n",
    "        new_lines.append(line)\n",
    "    return new_lines\n",
    "    \n",
    "# PART 1\n",
    "def calibration(lines):\n",
    "    output = 0\n",
    "    digit = \"123456789\"\n",
    "    numbers = []\n",
    "    for line in lines:\n",
    "        x = 0\n",
    "        while line[x] not in digit:\n",
    "            x += 1\n",
    "        first_digit = line[x]\n",
    "        last_digit = line[x]\n",
    "        y = x+1\n",
    "        for i in range(y, len(line)):\n",
    "            if line[i] in digit:\n",
    "                last_digit = line[i]\n",
    "        numbers.append(first_digit+last_digit)\n",
    "    for num in numbers:\n",
    "        output += int(num)\n",
    "    return output\n",
    "\n",
    "with open ('day1.txt') as file:\n",
    "    lines = file.read().split(\"\\n\")\n",
    "\n",
    "output_1 = calibration(lines)\n",
    "print(f\"part 1: {output_1}\")\n",
    "\n",
    "new_lines = replace_words(lines)\n",
    "output_2 = calibration(new_lines)\n",
    "print(f\"part 2: {output_2}\")"
   ]
  }
 ],
 "metadata": {
  "kernelspec": {
   "display_name": "Python 3",
   "language": "python",
   "name": "python3"
  },
  "language_info": {
   "codemirror_mode": {
    "name": "ipython",
    "version": 3
   },
   "file_extension": ".py",
   "mimetype": "text/x-python",
   "name": "python",
   "nbconvert_exporter": "python",
   "pygments_lexer": "ipython3",
   "version": "3.10.11"
  }
 },
 "nbformat": 4,
 "nbformat_minor": 2
}
