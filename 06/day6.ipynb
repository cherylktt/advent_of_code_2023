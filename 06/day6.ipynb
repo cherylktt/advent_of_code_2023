{
 "cells": [
  {
   "cell_type": "code",
   "execution_count": 34,
   "metadata": {},
   "outputs": [
    {
     "name": "stdout",
     "output_type": "stream",
     "text": [
      "part 1: 1083852\n",
      "part 2: 23501589\n"
     ]
    }
   ],
   "source": [
    "# lines = [\"Time:      7  15   30\",\n",
    "#          \"Distance:  9  40  200\"]\n",
    "\n",
    "# PART 1\n",
    "def time_distance_list(index):\n",
    "    l = []\n",
    "    for x in lines[index].split(\" \"):\n",
    "        if x != \"\" and \":\" not in x:\n",
    "            l.append(int(x))\n",
    "    return l\n",
    "\n",
    "def possible_options(time, distance):\n",
    "    total_options = 1\n",
    "    for i in range(len(time)):\n",
    "        options = 0\n",
    "        for j in range(time[i]):\n",
    "            if j*(time[i]-j) > distance[i]:\n",
    "                options += 1\n",
    "        total_options *= options\n",
    "    return total_options\n",
    "\n",
    "# PART 2\n",
    "def new_possible_options(time, distance):\n",
    "    options = 0\n",
    "    for i in range(time):\n",
    "        if i*(time-i) > distance:\n",
    "            options += 1\n",
    "    return options\n",
    "\n",
    "with open ('day6.txt') as file:\n",
    "    lines = file.read().split(\"\\n\")\n",
    "\n",
    "time = time_distance_list(0)\n",
    "distance = time_distance_list(1)\n",
    "total_options = possible_options(time, distance)\n",
    "\n",
    "new_time = int(lines[0].replace(\"Time:\", \"\").replace(\" \", \"\"))\n",
    "new_distance = int(lines[1].replace(\"Distance:\", \"\").replace(\" \", \"\"))\n",
    "new_options = new_possible_options(new_time, new_distance)\n",
    "\n",
    "print(f\"part 1: {total_options}\")\n",
    "print(f\"part 2: {new_options}\")"
   ]
  },
  {
   "cell_type": "code",
   "execution_count": null,
   "metadata": {},
   "outputs": [],
   "source": []
  }
 ],
 "metadata": {
  "kernelspec": {
   "display_name": "Python 3",
   "language": "python",
   "name": "python3"
  },
  "language_info": {
   "codemirror_mode": {
    "name": "ipython",
    "version": 3
   },
   "file_extension": ".py",
   "mimetype": "text/x-python",
   "name": "python",
   "nbconvert_exporter": "python",
   "pygments_lexer": "ipython3",
   "version": "3.10.11"
  }
 },
 "nbformat": 4,
 "nbformat_minor": 2
}
