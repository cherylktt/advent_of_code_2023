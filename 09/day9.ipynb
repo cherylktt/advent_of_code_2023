{
 "cells": [
  {
   "cell_type": "code",
   "execution_count": 32,
   "metadata": {},
   "outputs": [
    {
     "name": "stdout",
     "output_type": "stream",
     "text": [
      "part 1: 1898776583\n",
      "part 2: 1100\n"
     ]
    }
   ],
   "source": [
    "lines = [\"0 3 6 9 12 15\",\n",
    "         \"1 3 6 10 15 21\",\n",
    "         \"10 13 16 21 30 45\"]\n",
    "\n",
    "# PART 1\n",
    "def get_reports(lines):\n",
    "    reports = []\n",
    "    for i in range(len(lines)):\n",
    "        reports.append([int(x) for x in lines[i].split(\" \")])\n",
    "    return reports\n",
    "\n",
    "def total_history_1(reports):\n",
    "    total_history = 0\n",
    "    for i in range(len(reports)):\n",
    "        total_history += extrapolate_back(reports[i])\n",
    "    return total_history\n",
    "\n",
    "def extrapolate_back(report):\n",
    "    iterations = {0: report}\n",
    "    i = 0\n",
    "    while set(iterations[i]) != {0}:\n",
    "        iterations[i+1] = [iterations[i][j]-iterations[i][j-1] for j in range(1, len(iterations[i]))]\n",
    "        # print(iterations)\n",
    "        i += 1\n",
    "\n",
    "    n = len(iterations)\n",
    "    iterations[n-1].append(0)\n",
    "    for k in range(n-2, -1, -1):\n",
    "        iterations[k].append(iterations[k+1][-1]+iterations[k][-1])\n",
    "    return iterations[0][-1]\n",
    "\n",
    "# PART 2\n",
    "def total_history_2(reports):\n",
    "    total_history = 0\n",
    "    for i in range(len(reports)):\n",
    "        total_history += extrapolate_front(reports[i])\n",
    "    return total_history\n",
    "\n",
    "def extrapolate_front(report):\n",
    "    iterations = {0: report}\n",
    "    i = 0\n",
    "    while set(iterations[i]) != {0}:\n",
    "        iterations[i+1] = [iterations[i][j]-iterations[i][j-1] for j in range(1, len(iterations[i]))]\n",
    "        # print(iterations)\n",
    "        i += 1\n",
    "\n",
    "    n = len(iterations)\n",
    "    iterations[n-1].insert(0, 0)\n",
    "    for k in range(n-2, -1, -1):\n",
    "        iterations[k].insert(0, iterations[k][0]-iterations[k+1][0])\n",
    "    # print(iterations)\n",
    "    return iterations[0][0]\n",
    "\n",
    "with open(\"day9.txt\") as file:\n",
    "    lines = file.read().split(\"\\n\")\n",
    "\n",
    "reports = get_reports(lines)\n",
    "total_history_1 = total_history_1(reports)\n",
    "total_history_2 = total_history_2(reports)\n",
    "\n",
    "print(f\"part 1: {total_history_1}\")\n",
    "print(f\"part 2: {total_history_2}\")"
   ]
  }
 ],
 "metadata": {
  "kernelspec": {
   "display_name": "Python 3",
   "language": "python",
   "name": "python3"
  },
  "language_info": {
   "codemirror_mode": {
    "name": "ipython",
    "version": 3
   },
   "file_extension": ".py",
   "mimetype": "text/x-python",
   "name": "python",
   "nbconvert_exporter": "python",
   "pygments_lexer": "ipython3",
   "version": "3.10.11"
  }
 },
 "nbformat": 4,
 "nbformat_minor": 2
}
