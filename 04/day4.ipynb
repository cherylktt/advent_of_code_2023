{
 "cells": [
  {
   "cell_type": "code",
   "execution_count": 45,
   "metadata": {},
   "outputs": [
    {
     "name": "stdout",
     "output_type": "stream",
     "text": [
      "part 1: 20829\n",
      "part 2: 12648035\n"
     ]
    }
   ],
   "source": [
    "# lines = [\"Card 1: 41 48 83 86 17 | 83 86  6 31 17  9 48 53\",\n",
    "#          \"Card 2: 13 32 20 16 61 | 61 30 68 82 17 32 24 19\",\n",
    "#          \"Card 3:  1 21 53 59 44 | 69 82 63 72 16 21 14  1\",\n",
    "#          \"Card 4: 41 92 73 84 69 | 59 84 76 51 58  5 54 83\",\n",
    "#          \"Card 5: 87 83 26 28 32 | 88 30 70 12 93 22 82 36\",\n",
    "#          \"Card 6: 31 18 13 56 72 | 74 77 10 23 35 67 36 11\"]\n",
    "\n",
    "# PART 1\n",
    "def split_list(lines):\n",
    "    winning = []\n",
    "    numbers = []\n",
    "    for line in lines:\n",
    "        win = line.split(\" | \")[0].split(\": \")[1].split(\" \")\n",
    "        num = line.split(\" | \")[1].split(\" \")\n",
    "        while \"\" in win:\n",
    "            win.remove(\"\")\n",
    "        while \"\" in num:\n",
    "            num.remove(\"\")\n",
    "        winning.append(win)\n",
    "        numbers.append(num)\n",
    "        # print(win, num)\n",
    "    return winning, numbers\n",
    "\n",
    "def comparison(winning, numbers):\n",
    "    total_points = 0\n",
    "    for i in range(len(winning)):\n",
    "        points = 0\n",
    "        for j in range(len(winning[i])):\n",
    "            for k in range(len(numbers[i])):\n",
    "                if numbers[i][k] == winning[i][j] and points == 0:\n",
    "                    points = 1\n",
    "                elif numbers[i][k] == winning[i][j] and points > 0:\n",
    "                    points *= 2\n",
    "        # print(i, points)\n",
    "        total_points += points\n",
    "    return total_points\n",
    "\n",
    "# PART 2\n",
    "def scratchcard(winning, numbers):\n",
    "    total_cards = 0\n",
    "    card_count = {}\n",
    "    for x in range(len(winning)):\n",
    "        card_count[x+1] = 1\n",
    "    for i in range(len(winning)):\n",
    "        count = 0\n",
    "        for j in range(len(winning[i])):\n",
    "            for k in range(len(numbers[i])):\n",
    "                if numbers[i][k] == winning[i][j]:\n",
    "                    count += 1\n",
    "        if count > 0:\n",
    "            for y in range(1, count+1):\n",
    "                card_count[i+1+y] += 1*card_count[i+1]\n",
    "    for k, v in card_count.items():\n",
    "        total_cards += v\n",
    "    return total_cards\n",
    "        \n",
    "\n",
    "with open ('day4.txt') as file:\n",
    "    lines = file.read().split(\"\\n\")\n",
    "\n",
    "winning, numbers = split_list(lines)\n",
    "total_points = comparison(winning, numbers)\n",
    "total_cards = scratchcard(winning, numbers)\n",
    "\n",
    "print(f\"part 1: {total_points}\")\n",
    "print(f\"part 2: {total_cards}\")"
   ]
  },
  {
   "cell_type": "code",
   "execution_count": null,
   "metadata": {},
   "outputs": [],
   "source": []
  }
 ],
 "metadata": {
  "kernelspec": {
   "display_name": "Python 3",
   "language": "python",
   "name": "python3"
  },
  "language_info": {
   "codemirror_mode": {
    "name": "ipython",
    "version": 3
   },
   "file_extension": ".py",
   "mimetype": "text/x-python",
   "name": "python",
   "nbconvert_exporter": "python",
   "pygments_lexer": "ipython3",
   "version": "3.10.11"
  }
 },
 "nbformat": 4,
 "nbformat_minor": 2
}
