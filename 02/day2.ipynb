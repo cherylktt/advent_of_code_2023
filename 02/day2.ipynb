{
 "cells": [
  {
   "cell_type": "code",
   "execution_count": 49,
   "metadata": {},
   "outputs": [
    {
     "name": "stdout",
     "output_type": "stream",
     "text": [
      "part 1: 2771\n",
      "part 2: 70924\n"
     ]
    }
   ],
   "source": [
    "# lines = [\"Game 1: 3 blue, 4 red; 1 red, 2 green, 6 blue; 2 green\",\n",
    "#          \"Game 2: 1 blue, 2 green; 3 green, 4 blue, 1 red; 1 green, 1 blue\",\n",
    "#          \"Game 3: 8 green, 6 blue, 20 red; 5 blue, 4 red, 13 green; 5 green, 1 red\",\n",
    "#          \"Game 4: 1 green, 3 red, 6 blue; 3 green, 6 red; 3 green, 15 blue, 14 red\",\n",
    "#          \"Game 5: 6 red, 1 blue, 3 green; 2 blue, 1 red, 2 green\"]\n",
    "\n",
    "# PART 1\n",
    "def game_dictionary(lines):\n",
    "    games = {}\n",
    "    for line in lines:\n",
    "        line = line.replace(\"Game \", \"\")\n",
    "        number = int(line.split(\": \")[0])\n",
    "        sets = line.split(\": \")[1].split(\"; \")\n",
    "        # print(number, sets)\n",
    "        \n",
    "        games[number] = [0 for x in range(len(sets))]\n",
    "        # print(games)\n",
    "        for i in range(len(sets)):\n",
    "            cubes = sets[i].split(\", \")\n",
    "            # print(cubes)\n",
    "            red_count, blue_count, green_count = 0, 0, 0\n",
    "            for j in range(len(cubes)):\n",
    "                if 'red' in cubes[j]:\n",
    "                    red_count = int(cubes[j].split(\" \")[0])\n",
    "                elif 'blue' in cubes[j]:\n",
    "                    blue_count = int(cubes[j].split(\" \")[0])\n",
    "                elif 'green' in cubes[j]:\n",
    "                    green_count = int(cubes[j].split(\" \")[0])\n",
    "            games[number][i] = {'red': red_count, 'blue': blue_count, 'green': green_count}\n",
    "        #print(games)\n",
    "    return games\n",
    "\n",
    "def possible_games(games):\n",
    "    id_sum = 0\n",
    "    for k, v in games.items():\n",
    "        possible = True\n",
    "        for i in range(len(v)):\n",
    "            if v[i]['red'] > 12 or v[i]['blue'] > 14 or v[i]['green'] > 13:\n",
    "                possible = False\n",
    "        if possible == True:\n",
    "            id_sum += k\n",
    "    return id_sum\n",
    "\n",
    "# PART 2\n",
    "def least_possible_cubes(games):\n",
    "    power_sum = 0\n",
    "    for k, v in games.items():\n",
    "        red_count, blue_count, green_count = 1, 1, 1\n",
    "        for j in range(len(v)):\n",
    "            if v[j]['red'] > red_count:\n",
    "                red_count = v[j]['red']\n",
    "            if v[j]['blue'] > blue_count:\n",
    "                blue_count = v[j]['blue']\n",
    "            if v[j]['green'] > green_count:\n",
    "                green_count = v[j]['green']\n",
    "        powers = red_count * blue_count * green_count\n",
    "        # print(v, red_count, blue_count, green_count, powers)\n",
    "        power_sum += powers\n",
    "    return power_sum\n",
    "\n",
    "with open ('day2.txt') as file:\n",
    "    lines = file.read().split(\"\\n\")\n",
    "\n",
    "games = game_dictionary(lines)\n",
    "id_sum = possible_games(games)\n",
    "power_sum = least_possible_cubes(games)\n",
    "\n",
    "print(f\"part 1: {id_sum}\")\n",
    "print(f\"part 2: {power_sum}\")"
   ]
  }
 ],
 "metadata": {
  "kernelspec": {
   "display_name": "Python 3",
   "language": "python",
   "name": "python3"
  },
  "language_info": {
   "codemirror_mode": {
    "name": "ipython",
    "version": 3
   },
   "file_extension": ".py",
   "mimetype": "text/x-python",
   "name": "python",
   "nbconvert_exporter": "python",
   "pygments_lexer": "ipython3",
   "version": "3.10.11"
  }
 },
 "nbformat": 4,
 "nbformat_minor": 2
}
